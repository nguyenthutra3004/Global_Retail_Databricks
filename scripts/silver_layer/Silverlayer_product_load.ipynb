{
 "cells": [
  {
   "cell_type": "code",
   "execution_count": 0,
   "metadata": {
    "application/vnd.databricks.v1+cell": {
     "cellMetadata": {
      "byteLimit": 2048000,
      "rowLimit": 10000
     },
     "inputWidgets": {},
     "nuid": "9ae1fcd7-7c34-4dcf-8dac-5f71b5033c14",
     "showTitle": false,
     "tableResultSettingsMap": {},
     "title": ""
    }
   },
   "outputs": [],
   "source": [
    "spark.sql(\"use globalretail_silver\")\n",
    "spark.sql(\"\"\"\n",
    "CREATE TABLE IF NOT EXISTS silver_products (\n",
    "    product_id STRING,\n",
    "    name STRING,\n",
    "    category STRING,\n",
    "    brand STRING,\n",
    "    price DOUBLE,\n",
    "    stock_quantity INT,\n",
    "    rating DOUBLE,\n",
    "    is_active BOOLEAN,\n",
    "    price_category STRING,\n",
    "    stock_status STRING,\n",
    "    last_updated TIMESTAMP\n",
    ")\n",
    "USING DELTA\n",
    "\"\"\")"
   ]
  },
  {
   "cell_type": "code",
   "execution_count": 0,
   "metadata": {
    "application/vnd.databricks.v1+cell": {
     "cellMetadata": {
      "byteLimit": 2048000,
      "rowLimit": 10000
     },
     "inputWidgets": {},
     "nuid": "3b314908-d162-43cd-914b-63edff357c98",
     "showTitle": false,
     "tableResultSettingsMap": {},
     "title": ""
    }
   },
   "outputs": [],
   "source": [
    "last_processed_df = spark.sql(\"SELECT MAX(last_updated) as last_processed FROM silver_products\")\n",
    "last_processed_timestamp = last_processed_df.collect()[0]['last_processed']\n",
    "\n",
    "if last_processed_timestamp is None:\n",
    "    last_processed_timestamp = \"1900-01-01T00:00:00.000+00:00\""
   ]
  },
  {
   "cell_type": "code",
   "execution_count": 0,
   "metadata": {
    "application/vnd.databricks.v1+cell": {
     "cellMetadata": {
      "byteLimit": 2048000,
      "rowLimit": 10000
     },
     "inputWidgets": {},
     "nuid": "a0ac2e27-44fb-4df3-aa54-e8bcf427f04c",
     "showTitle": false,
     "tableResultSettingsMap": {},
     "title": ""
    }
   },
   "outputs": [],
   "source": [
    "spark.sql(f\"\"\"\n",
    "CREATE OR REPLACE TEMPORARY VIEW bronze_incremental_products AS\n",
    "SELECT *\n",
    "FROM globalretail_bronze.bronze_products WHERE ingestion_timestamp > '{last_processed_timestamp}'\n",
    "\"\"\")"
   ]
  },
  {
   "cell_type": "markdown",
   "metadata": {
    "application/vnd.databricks.v1+cell": {
     "cellMetadata": {},
     "inputWidgets": {},
     "nuid": "558a6c1b-1b16-4861-9e3c-e57394ccd800",
     "showTitle": false,
     "tableResultSettingsMap": {},
     "title": ""
    }
   },
   "source": [
    "Data Transformations:\n",
    "   - Price normalization (setting negative prices to 0)\n",
    "   - Stock quantity normalization (setting negative stock to 0)\n",
    "   - Rating normalization (clamping between 0 and 5)\n",
    "   - Price categorization (Premium, Standard, Budget)\n",
    "   - Stock status calculation (Out of Stock, Low Stock, Moderate Stock, Sufficient Stock)"
   ]
  },
  {
   "cell_type": "code",
   "execution_count": 0,
   "metadata": {
    "application/vnd.databricks.v1+cell": {
     "cellMetadata": {
      "byteLimit": 2048000,
      "rowLimit": 10000
     },
     "inputWidgets": {},
     "nuid": "891f9010-b04a-4643-9ddd-52a2a1198a17",
     "showTitle": false,
     "tableResultSettingsMap": {},
     "title": ""
    }
   },
   "outputs": [],
   "source": [
    "# Transformation\n",
    "spark.sql(\"\"\"\n",
    "CREATE OR REPLACE TEMPORARY VIEW silver_incremental_products AS\n",
    "SELECT\n",
    "    product_id,\n",
    "    name,\n",
    "    category,\n",
    "    brand,\n",
    "    CASE\n",
    "        WHEN price < 0 THEN 0\n",
    "        ELSE price\n",
    "    END AS price,\n",
    "    CASE\n",
    "        WHEN stock_quantity < 0 THEN 0\n",
    "        ELSE stock_quantity\n",
    "    END AS stock_quantity,\n",
    "    CASE\n",
    "        WHEN rating < 0 THEN 0\n",
    "        WHEN rating > 5 THEN 5\n",
    "        ELSE rating\n",
    "    END AS rating,\n",
    "    is_active,\n",
    "    CASE\n",
    "        WHEN price > 1000 THEN 'Premium'\n",
    "        WHEN price > 100 THEN 'Standard'\n",
    "        ELSE 'Budget'\n",
    "    END AS price_category,\n",
    "    CASE\n",
    "        WHEN stock_quantity = 0 THEN 'Out of Stock'\n",
    "        WHEN stock_quantity < 10 THEN 'Low Stock'\n",
    "        WHEN stock_quantity < 50 THEN 'Moderate Stock'\n",
    "        ELSE 'Sufficient Stock'\n",
    "    END AS stock_status,\n",
    "    CURRENT_TIMESTAMP() AS last_updated\n",
    "FROM bronze_incremental_products\n",
    "WHERE name IS NOT NULL AND category IS NOT NULL\n",
    "\"\"\")"
   ]
  },
  {
   "cell_type": "code",
   "execution_count": 0,
   "metadata": {
    "application/vnd.databricks.v1+cell": {
     "cellMetadata": {
      "byteLimit": 2048000,
      "implicitDf": true,
      "rowLimit": 10000
     },
     "inputWidgets": {},
     "nuid": "1c5fb865-7aaf-4b5d-8dfd-7e1c0fcb7ee5",
     "showTitle": false,
     "tableResultSettingsMap": {},
     "title": ""
    }
   },
   "outputs": [],
   "source": [
    "%sql\n",
    "select * from silver_incremental_products"
   ]
  },
  {
   "cell_type": "code",
   "execution_count": 0,
   "metadata": {
    "application/vnd.databricks.v1+cell": {
     "cellMetadata": {
      "byteLimit": 2048000,
      "rowLimit": 10000
     },
     "inputWidgets": {},
     "nuid": "d14b1e90-0a7f-41f7-9d16-98faccb368e6",
     "showTitle": false,
     "tableResultSettingsMap": {},
     "title": ""
    }
   },
   "outputs": [],
   "source": [
    "spark.sql(\"\"\"\n",
    "MERGE INTO silver_products target\n",
    "USING silver_incremental_products source\n",
    "ON target.product_id = source.product_id\n",
    "WHEN MATCHED THEN\n",
    "    UPDATE SET *\n",
    "WHEN NOT MATCHED THEN\n",
    "    INSERT *\n",
    "\"\"\")"
   ]
  },
  {
   "cell_type": "code",
   "execution_count": 0,
   "metadata": {
    "application/vnd.databricks.v1+cell": {
     "cellMetadata": {
      "byteLimit": 2048000,
      "implicitDf": true,
      "rowLimit": 10000
     },
     "inputWidgets": {},
     "nuid": "1e564f82-55c2-436f-b22c-c69da36e8dec",
     "showTitle": false,
     "tableResultSettingsMap": {},
     "title": ""
    }
   },
   "outputs": [],
   "source": [
    "%sql\n",
    "select * from  silver_products"
   ]
  },
  {
   "cell_type": "code",
   "execution_count": 0,
   "metadata": {
    "application/vnd.databricks.v1+cell": {
     "cellMetadata": {},
     "inputWidgets": {},
     "nuid": "ebb36554-96dd-4c07-86c3-cc451a3cda81",
     "showTitle": false,
     "tableResultSettingsMap": {},
     "title": ""
    }
   },
   "outputs": [],
   "source": []
  }
 ],
 "metadata": {
  "application/vnd.databricks.v1+notebook": {
   "computePreferences": null,
   "dashboards": [],
   "environmentMetadata": {
    "base_environment": "",
    "environment_version": "2"
   },
   "inputWidgetPreferences": null,
   "language": "python",
   "notebookMetadata": {
    "mostRecentlyExecutedCommandWithImplicitDF": {
     "commandId": 8576279367386909,
     "dataframes": [
      "_sqldf"
     ]
    },
    "pythonIndentUnit": 4
   },
   "notebookName": "Silverlayer_product_load",
   "widgets": {}
  },
  "language_info": {
   "name": "python"
  }
 },
 "nbformat": 4,
 "nbformat_minor": 0
}
