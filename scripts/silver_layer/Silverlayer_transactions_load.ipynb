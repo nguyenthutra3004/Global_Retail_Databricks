{
 "cells": [
  {
   "cell_type": "code",
   "execution_count": 0,
   "metadata": {
    "application/vnd.databricks.v1+cell": {
     "cellMetadata": {
      "byteLimit": 2048000,
      "rowLimit": 10000
     },
     "inputWidgets": {},
     "nuid": "4e85235d-5554-4297-b9d5-742167c8fea3",
     "showTitle": false,
     "tableResultSettingsMap": {},
     "title": ""
    }
   },
   "outputs": [],
   "source": [
    "spark.sql(\"USE globalretail_silver\")\n",
    "spark.sql(\"\"\"\n",
    "CREATE TABLE IF NOT EXISTS silver_orders (\n",
    "    transaction_id STRING,\n",
    "    customer_id STRING,\n",
    "    product_id STRING,\n",
    "    quantity INT,\n",
    "    total_amount DOUBLE,\n",
    "    transaction_date DATE,\n",
    "    payment_method STRING,\n",
    "    store_type STRING,\n",
    "    order_status STRING,\n",
    "    last_updated TIMESTAMP\n",
    ")\n",
    "USING DELTA\n",
    "\"\"\")"
   ]
  },
  {
   "cell_type": "code",
   "execution_count": 0,
   "metadata": {
    "application/vnd.databricks.v1+cell": {
     "cellMetadata": {
      "byteLimit": 2048000,
      "rowLimit": 10000
     },
     "inputWidgets": {},
     "nuid": "81ccc8b6-37cd-4a43-85cd-98dfa616201f",
     "showTitle": false,
     "tableResultSettingsMap": {},
     "title": ""
    }
   },
   "outputs": [],
   "source": [
    "last_processed_df = spark.sql(\"SELECT MAX(last_updated) as last_processed FROM silver_orders\")\n",
    "last_processed_timestamp = last_processed_df.collect()[0]['last_processed']\n",
    "\n",
    "if last_processed_timestamp is None:\n",
    "    last_processed_timestamp = \"1900-01-01T00:00:00.000+00:00\""
   ]
  },
  {
   "cell_type": "code",
   "execution_count": 0,
   "metadata": {
    "application/vnd.databricks.v1+cell": {
     "cellMetadata": {
      "byteLimit": 2048000,
      "rowLimit": 10000
     },
     "inputWidgets": {},
     "nuid": "da48352a-fd1b-441c-b1f7-9cf2bbee1c4d",
     "showTitle": false,
     "tableResultSettingsMap": {},
     "title": ""
    }
   },
   "outputs": [],
   "source": [
    "spark.sql(f\"\"\"\n",
    "CREATE OR REPLACE TEMPORARY VIEW bronze_incremental_orders AS\n",
    "SELECT *\n",
    "FROM globalretail_bronze.bronze_transactions WHERE ingestion_timestamp > '{last_processed_timestamp}'\n",
    "\n",
    "\"\"\")"
   ]
  },
  {
   "cell_type": "code",
   "execution_count": 0,
   "metadata": {
    "application/vnd.databricks.v1+cell": {
     "cellMetadata": {
      "byteLimit": 2048000,
      "rowLimit": 10000
     },
     "inputWidgets": {},
     "nuid": "c6a08bf0-5946-4043-8d90-aa6ebc302164",
     "showTitle": false,
     "tableResultSettingsMap": {},
     "title": ""
    }
   },
   "outputs": [],
   "source": [
    "spark.sql(\"select * from bronze_incremental_orders\").show()"
   ]
  },
  {
   "cell_type": "markdown",
   "metadata": {
    "application/vnd.databricks.v1+cell": {
     "cellMetadata": {},
     "inputWidgets": {},
     "nuid": "0d701928-e28c-418f-b3b4-b8b07cf88702",
     "showTitle": false,
     "tableResultSettingsMap": {},
     "title": ""
    }
   },
   "source": [
    "Data Transformations:\n",
    "   - Quantity and total_amount normalization (setting negative values to 0)\n",
    "   - Date casting to ensure consistent date format\n",
    "   - Order status derivation based on quantity and total_amount\n",
    "\n",
    "Data Quality Checks: We filter out records with null transaction dates, customer IDs, or product IDs."
   ]
  },
  {
   "cell_type": "code",
   "execution_count": 0,
   "metadata": {
    "application/vnd.databricks.v1+cell": {
     "cellMetadata": {
      "byteLimit": 2048000,
      "rowLimit": 10000
     },
     "inputWidgets": {},
     "nuid": "e11dbc2d-7f87-455b-bced-69da0c61572f",
     "showTitle": false,
     "tableResultSettingsMap": {},
     "title": ""
    }
   },
   "outputs": [],
   "source": [
    "spark.sql(\"\"\"\n",
    "CREATE OR REPLACE TEMPORARY VIEW silver_incremental_orders AS\n",
    "SELECT\n",
    "    transaction_id,\n",
    "    customer_id,\n",
    "    product_id,\n",
    "    CASE \n",
    "        WHEN quantity < 0 THEN 0 \n",
    "        ELSE quantity \n",
    "    END AS quantity,\n",
    "    CASE \n",
    "        WHEN total_amount < 0 THEN 0 \n",
    "        ELSE total_amount \n",
    "    END AS total_amount,\n",
    "    CAST(transaction_date AS DATE) AS transaction_date,\n",
    "    payment_method,\n",
    "    store_type,\n",
    "    CASE\n",
    "        WHEN quantity = 0 OR total_amount = 0 THEN 'Cancelled'\n",
    "        ELSE 'Completed'\n",
    "    END AS order_status,\n",
    "    CURRENT_TIMESTAMP() AS last_updated\n",
    "FROM bronze_incremental_orders\n",
    "WHERE transaction_date IS NOT NULL\n",
    "  AND customer_id IS NOT NULL\n",
    "  AND product_id IS NOT NULL\n",
    "\"\"\")"
   ]
  },
  {
   "cell_type": "code",
   "execution_count": 0,
   "metadata": {
    "application/vnd.databricks.v1+cell": {
     "cellMetadata": {
      "byteLimit": 2048000,
      "rowLimit": 10000
     },
     "inputWidgets": {},
     "nuid": "ae35981d-a736-417d-8ecd-2b1b0233d54e",
     "showTitle": false,
     "tableResultSettingsMap": {},
     "title": ""
    }
   },
   "outputs": [],
   "source": [
    "spark.sql(\"select * from silver_incremental_orders\").show()"
   ]
  },
  {
   "cell_type": "code",
   "execution_count": 0,
   "metadata": {
    "application/vnd.databricks.v1+cell": {
     "cellMetadata": {
      "byteLimit": 2048000,
      "rowLimit": 10000
     },
     "inputWidgets": {},
     "nuid": "5f5b4625-1552-4ea2-b71a-413bd56b862c",
     "showTitle": false,
     "tableResultSettingsMap": {},
     "title": ""
    }
   },
   "outputs": [],
   "source": [
    "spark.sql(\"\"\"\n",
    "MERGE INTO silver_orders target\n",
    "USING silver_incremental_orders source\n",
    "ON target.transaction_id = source.transaction_id\n",
    "WHEN MATCHED THEN\n",
    "    UPDATE SET *\n",
    "WHEN NOT MATCHED THEN\n",
    "    INSERT *\n",
    "\"\"\")"
   ]
  },
  {
   "cell_type": "code",
   "execution_count": 0,
   "metadata": {
    "application/vnd.databricks.v1+cell": {
     "cellMetadata": {
      "byteLimit": 2048000,
      "implicitDf": true,
      "rowLimit": 10000
     },
     "inputWidgets": {},
     "nuid": "2d671dcd-3ed9-4a8b-b551-472b0e1f905b",
     "showTitle": false,
     "tableResultSettingsMap": {},
     "title": ""
    }
   },
   "outputs": [],
   "source": [
    "%sql\n",
    "select * from silver_orders"
   ]
  },
  {
   "cell_type": "code",
   "execution_count": 0,
   "metadata": {
    "application/vnd.databricks.v1+cell": {
     "cellMetadata": {},
     "inputWidgets": {},
     "nuid": "f02f46e1-32ba-4977-9e95-2d19b6056d82",
     "showTitle": false,
     "tableResultSettingsMap": {},
     "title": ""
    }
   },
   "outputs": [],
   "source": []
  }
 ],
 "metadata": {
  "application/vnd.databricks.v1+notebook": {
   "computePreferences": null,
   "dashboards": [],
   "environmentMetadata": {
    "base_environment": "",
    "environment_version": "2"
   },
   "inputWidgetPreferences": null,
   "language": "python",
   "notebookMetadata": {
    "mostRecentlyExecutedCommandWithImplicitDF": {
     "commandId": 6233026869769126,
     "dataframes": [
      "_sqldf"
     ]
    },
    "pythonIndentUnit": 4
   },
   "notebookName": "Silverlayer_transactions_load",
   "widgets": {}
  },
  "language_info": {
   "name": "python"
  }
 },
 "nbformat": 4,
 "nbformat_minor": 0
}
